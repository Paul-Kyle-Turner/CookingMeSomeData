{
 "cells": [
  {
   "cell_type": "markdown",
   "metadata": {},
   "source": [
    "# Cooking data"
   ]
  },
  {
   "cell_type": "code",
   "execution_count": 8,
   "metadata": {},
   "outputs": [],
   "source": [
    "import pandas as pd\n",
    "import numpy as np\n",
    "import sklearn as sk\n",
    "import matplotlib as plt\n",
    "import sqlite3\n",
    "import json"
   ]
  },
  {
   "cell_type": "markdown",
   "metadata": {},
   "source": [
    "Import the json training file."
   ]
  },
  {
   "cell_type": "code",
   "execution_count": 24,
   "metadata": {},
   "outputs": [],
   "source": [
    "with open('trainfile2.json', 'r') as json_file:\n",
    "        training_data_no_format = json.load(json_file)"
   ]
  },
  {
   "cell_type": "markdown",
   "metadata": {},
   "source": [
    "Setup database function.  Only needed to be run a single time for initial data setup.  Doesn't seem to create the database while jupyter is running, please use the setup_main.py if future use is needed."
   ]
  },
  {
   "cell_type": "code",
   "execution_count": 27,
   "metadata": {},
   "outputs": [],
   "source": [
    "categories = set()\n",
    "foodies = sqlite3.connect('foodies.db')\n",
    "foodies_cursor = foodies.cursor()\n",
    "foodies_cursor.execute('''\n",
    "    CREATE TABLE IF NOT EXISTS food(\n",
    "    id int NOT NULL,\n",
    "    category TEXT NOT NULL,\n",
    "    UNIQUE(id));''')\n",
    "foodies_cursor.execute('''\n",
    "    CREATE TABLE IF NOT EXISTS ingredients(\n",
    "    id integer PRIMARY KEY AUTOINCREMENT,\n",
    "    ingredient TEXT NOT NULL,\n",
    "    UNIQUE(ingredient));''')\n",
    "foodies_cursor.execute('''\n",
    "    CREATE TABLE IF NOT EXISTS bridge(\n",
    "    food_id integer NOT NULL REFERENCES food(id),\n",
    "    ingredients_id integer NOT NULL REFERENCES ingredients(id),\n",
    "    PRIMARY KEY (food_id, ingredients_id));''')\n",
    "foodies.commit()\n",
    "for item in training_data_no_format:\n",
    "    categories.add(item['cuisine'])\n",
    "    foodies_cursor.execute('''\n",
    "        INSERT OR IGNORE INTO food(id, category)\n",
    "        VALUES(?,?)''', [item['id'], item['cuisine']])\n",
    "    item_id = foodies_cursor.lastrowid\n",
    "    for ingredient in item['ingredients']:\n",
    "        foodies_cursor.execute('''\n",
    "            INSERT OR IGNORE INTO ingredients(id, ingredient)\n",
    "            VALUES(?,?);''', [None, ingredient])\n",
    "        ingredient_id = foodies_cursor.lastrowid\n",
    "        foodies_cursor.execute('''\n",
    "            INSERT OR IGNORE INTO bridge(food_id, ingredients_id)\n",
    "            VALUES(?,?);''', [item_id, ingredient_id])\n",
    "foodies.commit()"
   ]
  },
  {
   "cell_type": "code",
   "execution_count": 28,
   "metadata": {},
   "outputs": [
    {
     "name": "stdout",
     "output_type": "stream",
     "text": [
      "The number of categories is 20.\n",
      "{'moroccan', 'spanish', 'vietnamese', 'chinese', 'italian', 'korean', 'greek', 'french', 'brazilian', 'jamaican', 'cajun_creole', 'thai', 'filipino', 'british', 'japanese', 'russian', 'southern_us', 'mexican', 'indian', 'irish'}\n"
     ]
    }
   ],
   "source": [
    "print(f'The number of categories is {len(categories)}.')\n",
    "print(f'{categories}')"
   ]
  },
  {
   "cell_type": "code",
   "execution_count": null,
   "metadata": {},
   "outputs": [],
   "source": []
  }
 ],
 "metadata": {
  "kernelspec": {
   "display_name": "Python 3",
   "language": "python",
   "name": "python3"
  },
  "language_info": {
   "codemirror_mode": {
    "name": "ipython",
    "version": 3
   },
   "file_extension": ".py",
   "mimetype": "text/x-python",
   "name": "python",
   "nbconvert_exporter": "python",
   "pygments_lexer": "ipython3",
   "version": "3.7.1"
  }
 },
 "nbformat": 4,
 "nbformat_minor": 2
}
